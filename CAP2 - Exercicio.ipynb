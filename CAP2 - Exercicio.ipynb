{
 "cells": [
  {
   "cell_type": "code",
   "execution_count": 11,
   "id": "9ea0481f",
   "metadata": {},
   "outputs": [
    {
     "name": "stdout",
     "output_type": "stream",
     "text": [
      "Versão da Linguagem Python Usada Neste Jupyter Notebook: 3.9.13\n"
     ]
    }
   ],
   "source": [
    "# Versão da Linguagem Python\n",
    "from platform import python_version\n",
    "print('Versão da Linguagem Python Usada Neste Jupyter Notebook:', python_version())"
   ]
  },
  {
   "cell_type": "code",
   "execution_count": 10,
   "id": "48e1fe85",
   "metadata": {},
   "outputs": [
    {
     "name": "stdout",
     "output_type": "stream",
     "text": [
      "[0, 1]\n",
      "[0, 1, 2]\n",
      "[0, 1, 2, 3]\n",
      "[0, 1, 2, 3, 4]\n",
      "[0, 1, 2, 3, 4, 5]\n",
      "[0, 1, 2, 3, 4, 5, 6]\n",
      "[0, 1, 2, 3, 4, 5, 6, 7]\n",
      "[0, 1, 2, 3, 4, 5, 6, 7, 8]\n",
      "[0, 1, 2, 3, 4, 5, 6, 7, 8, 9]\n",
      "[0, 1, 2, 3, 4, 5, 6, 7, 8, 9, 10]\n",
      "[0, 1, 2, 3, 4, 5, 6, 7, 8, 9, 10, 11]\n"
     ]
    }
   ],
   "source": [
    "# Imprima na tela os números de 1 a 10. Use uma lista para armazenar os números.\n",
    "i = 0\n",
    "lista = [i]\n",
    "\n",
    "while i <= 10:\n",
    "    i += 1\n",
    "    lista.append(i)\n",
    "    print(lista)"
   ]
  },
  {
   "cell_type": "code",
   "execution_count": 11,
   "id": "b8e8defa",
   "metadata": {},
   "outputs": [
    {
     "name": "stdout",
     "output_type": "stream",
     "text": [
      "['João', 'Maria', 'Zé', 'Luiz', 'Toin']\n"
     ]
    }
   ],
   "source": [
    "#Crie uma lista de 5 objetos e imprima na tela\n",
    "lista5 = ['João', 'Maria', 'Zé', 'Luiz', 'Toin']\n",
    "\n",
    "print(lista5)"
   ]
  },
  {
   "cell_type": "code",
   "execution_count": 16,
   "id": "7dba504a",
   "metadata": {},
   "outputs": [
    {
     "name": "stdout",
     "output_type": "stream",
     "text": [
      "Matheus Development\n"
     ]
    }
   ],
   "source": [
    "#Crie duas strings e concatene as duas em uma terceira string\n",
    "string1 = 'Matheus'\n",
    "string2 = ' Development'\n",
    "string3 = string1 + string2\n",
    "\n",
    "print(string3)"
   ]
  },
  {
   "cell_type": "code",
   "execution_count": 17,
   "id": "b990037a",
   "metadata": {},
   "outputs": [
    {
     "name": "stdout",
     "output_type": "stream",
     "text": [
      "3\n"
     ]
    }
   ],
   "source": [
    "# Exercício 4 - Crie uma tupla com os seguintes elementos: 1, 2, 2, 3, 4, 4, 4, 5 e\n",
    "# depois utilize a função count do \n",
    "# objeto tupla para verificar quantas vezes o número 4 aparece na tupla\n",
    "\n",
    "numbers = (1,2,3,4,4,4,5)\n",
    "print(numbers.count(4))"
   ]
  },
  {
   "cell_type": "code",
   "execution_count": 18,
   "id": "1ba2eae8",
   "metadata": {},
   "outputs": [
    {
     "name": "stdout",
     "output_type": "stream",
     "text": [
      "{}\n"
     ]
    }
   ],
   "source": [
    "# Exercício 5 - Crie um dicionário vazio e imprima na tela\n",
    "dicionario_vazio = {}\n",
    "print(dicionario_vazio)"
   ]
  },
  {
   "cell_type": "code",
   "execution_count": 21,
   "id": "203f813e",
   "metadata": {},
   "outputs": [
    {
     "name": "stdout",
     "output_type": "stream",
     "text": [
      "{'nome': 'Matheus', 'idade': 27, 'Profissao': 'T.I'}\n"
     ]
    }
   ],
   "source": [
    "# Exercício 6 - Crie um dicionário com 3 chaves e 3 valores e imprima na tela\n",
    "dicionario_tres = {\n",
    "    'nome': 'Matheus',\n",
    "    'idade': 27,\n",
    "    'Profissao': 'T.I'\n",
    "}\n",
    "\n",
    "print(dicionario_tres)"
   ]
  },
  {
   "cell_type": "code",
   "execution_count": 23,
   "id": "e7b2b696",
   "metadata": {},
   "outputs": [
    {
     "name": "stdout",
     "output_type": "stream",
     "text": [
      "{'nome': 'Matheus', 'idade': 27, 'Profissao': 'T.I'}\n",
      "{'nome': 'Matheus', 'idade': 27, 'Profissao': 'T.I', 'mais': 'um'}\n"
     ]
    }
   ],
   "source": [
    "# Exercício 7 - Adicione mais um elemento ao dicionário criado no exercício anterior e imprima na tela\n",
    "dicionario_tres = {\n",
    "    'nome': 'Matheus',\n",
    "    'idade': 27,\n",
    "    'Profissao': 'T.I'\n",
    "}\n",
    "print(dicionario_tres)\n",
    "\n",
    "dicionario_tres['mais'] = 'um'\n",
    "\n",
    "print(dicionario_tres)"
   ]
  },
  {
   "cell_type": "code",
   "execution_count": 2,
   "id": "feb46575",
   "metadata": {},
   "outputs": [
    {
     "name": "stdout",
     "output_type": "stream",
     "text": [
      "{'nome': 'Matheus', 'idade': 27, 'disc2': [1, 2]}\n"
     ]
    }
   ],
   "source": [
    "# Exercício 8 - Crie um dicionário com 3 chaves e 3 valores. Um dos valores deve ser uma lista de 2 elementos numéricos. \n",
    "# Imprima o dicionário na tela.\n",
    "\n",
    "\n",
    "dic1 = {\n",
    "    'nome': 'Matheus',\n",
    "    'idade': 27,\n",
    "    'disc2': [1, 2]\n",
    "}\n",
    "\n",
    "print(dic1)"
   ]
  },
  {
   "cell_type": "code",
   "execution_count": 5,
   "id": "c1f05a16",
   "metadata": {},
   "outputs": [
    {
     "name": "stdout",
     "output_type": "stream",
     "text": [
      "['Elemento 1', (1, 2), {'chave': 1, 'chave2': 2}, 9.9]\n"
     ]
    }
   ],
   "source": [
    "# Exercício 9 - Crie uma lista de 4 elementos. O primeiro elemento deve ser uma string, \n",
    "# o segundo uma tupla de 2 elementos, o terceiro um dcionário com 2 chaves e 2 valores e \n",
    "# o quarto elemento um valor do tipo float.\n",
    "# Imprima a lista na tela.\n",
    "\n",
    "\n",
    "list9 = ['Elemento 1', (1,2),{'chave': 1, 'chave2': 2}, 9.9]\n",
    "\n",
    "print(list9)"
   ]
  },
  {
   "cell_type": "code",
   "execution_count": 10,
   "id": "7a89999e",
   "metadata": {},
   "outputs": [
    {
     "name": "stdout",
     "output_type": "stream",
     "text": [
      "Cientista de Dados\n"
     ]
    }
   ],
   "source": [
    "# Exercício 10 - Considere a string abaixo. Imprima na tela apenas os caracteres da posição 1 a 18.\n",
    "frase = 'Cientista de Dados é o profissional mais sexy do século XXI'\n",
    "\n",
    "print(frase[0:18])"
   ]
  }
 ],
 "metadata": {
  "kernelspec": {
   "display_name": "Python 3 (ipykernel)",
   "language": "python",
   "name": "python3"
  },
  "language_info": {
   "codemirror_mode": {
    "name": "ipython",
    "version": 3
   },
   "file_extension": ".py",
   "mimetype": "text/x-python",
   "name": "python",
   "nbconvert_exporter": "python",
   "pygments_lexer": "ipython3",
   "version": "3.9.13"
  }
 },
 "nbformat": 4,
 "nbformat_minor": 5
}
