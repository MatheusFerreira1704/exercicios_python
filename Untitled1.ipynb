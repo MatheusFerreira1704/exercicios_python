{
 "cells": [
  {
   "cell_type": "code",
   "execution_count": 1,
   "id": "b4e56350",
   "metadata": {},
   "outputs": [],
   "source": [
    "# Exercício 1 - Crie um objeto a partir da classe abaixo, chamado roc1, passando 2 parâmetros e depois faça uma chamada\n",
    "# aos atributos e métodos\n",
    "from math import sqrt\n",
    "\n",
    "class Rocket():\n",
    "     \n",
    "    def __init__(self, x=0, y=0):\n",
    "        self.x = x\n",
    "        self.y = y\n",
    "        \n",
    "    def move_rocket(self, x_increment=0, y_increment=1):\n",
    "        self.x += x_increment\n",
    "        self.y += y_increment\n",
    "        \n",
    "    def print_rocket(self):\n",
    "        print(self.x, self.y)\n",
    "        "
   ]
  },
  {
   "cell_type": "code",
   "execution_count": 2,
   "id": "7eef23fd",
   "metadata": {},
   "outputs": [],
   "source": [
    "roc1 = Rocket(10, 25)\n",
    "\n",
    "roc1.move_rocket(5,8)\n"
   ]
  },
  {
   "cell_type": "code",
   "execution_count": 3,
   "id": "dfef7f3b",
   "metadata": {},
   "outputs": [
    {
     "data": {
      "text/plain": [
       "15"
      ]
     },
     "execution_count": 3,
     "metadata": {},
     "output_type": "execute_result"
    }
   ],
   "source": [
    "roc1.x\n"
   ]
  },
  {
   "cell_type": "code",
   "execution_count": 4,
   "id": "ecb9c409",
   "metadata": {},
   "outputs": [
    {
     "data": {
      "text/plain": [
       "33"
      ]
     },
     "execution_count": 4,
     "metadata": {},
     "output_type": "execute_result"
    }
   ],
   "source": [
    "roc1.y"
   ]
  },
  {
   "cell_type": "code",
   "execution_count": 5,
   "id": "702d8497",
   "metadata": {},
   "outputs": [
    {
     "name": "stdout",
     "output_type": "stream",
     "text": [
      "15 33\n"
     ]
    }
   ],
   "source": [
    "roc1.print_rocket()"
   ]
  },
  {
   "cell_type": "code",
   "execution_count": 6,
   "id": "20b5ebf2",
   "metadata": {},
   "outputs": [],
   "source": [
    "# Exercício 2 - Crie uma classe chamada Pessoa() com os atributos: nome, cidade, telefone e e-mail. Use pelo menos 2\n",
    "# métodos especiais na sua classe. Crie um objeto da sua classe e faça uma chamada a pelo menos um dos seus métodos\n",
    "# especiais.\n",
    "\n",
    "class Pessoa():\n",
    "    def __init__(self, nome, cidade, telefone, email):\n",
    "        print(\"Pessoa cadastrada.\")\n",
    "        self.nome = nome\n",
    "        self.cidade = cidade\n",
    "        self.telefone = telefone\n",
    "        self.email = email\n",
    "    \n",
    "    def __str__(self):\n",
    "        return \"Nome: %s, Cidade: %s, Telefone: %s, E-mail: %s\" %(self.nome, self.cidade, self.telefone, self.email)\n",
    "    \n",
    "        "
   ]
  },
  {
   "cell_type": "code",
   "execution_count": 7,
   "id": "674342e0",
   "metadata": {},
   "outputs": [
    {
     "name": "stdout",
     "output_type": "stream",
     "text": [
      "Pessoa cadastrada.\n"
     ]
    }
   ],
   "source": [
    "pessoa1 = Pessoa(\"Agenor\", \"Abreu e Lima\", \"819898-8989\", \"agenor_agena@bol.com.br\")"
   ]
  },
  {
   "cell_type": "code",
   "execution_count": null,
   "id": "62305aba",
   "metadata": {},
   "outputs": [],
   "source": []
  },
  {
   "cell_type": "code",
   "execution_count": 8,
   "id": "f009b813",
   "metadata": {},
   "outputs": [],
   "source": [
    "\n",
    "# Exercício 3 - Crie a classe Smartphone com 2 atributos, tamanho e interface e crie a classe MP3Player com os \n",
    "# atributos capacidade. A classe MP3player deve herdar os atributos da classe Smartphone.\n",
    "\n",
    "\n",
    "\n",
    "class Smarthphone():\n",
    "    def __init__(self, teste, tamanho, interface):\n",
    "        self.teste = teste\n",
    "        self.tamanho = tamanho\n",
    "        self.interface = interface"
   ]
  },
  {
   "cell_type": "code",
   "execution_count": null,
   "id": "ce6aeb20",
   "metadata": {},
   "outputs": [],
   "source": []
  },
  {
   "cell_type": "code",
   "execution_count": 22,
   "id": "8d2f5d2d",
   "metadata": {},
   "outputs": [],
   "source": [
    "class MP3player(Smarthphone):\n",
    "    def __init__(self,teste, tamanho, interface, musica):\n",
    "        super().__init__(teste, tamanho, interface)\n",
    "        self.musica = musica \n",
    "        \n",
    "    def __str__(self):\n",
    "        return \"TESTE: %s, Tamanho: %s, Interface: %s, Musica: %s \"%(self.teste, self.tamanho, self.interface, self.musica)"
   ]
  },
  {
   "cell_type": "code",
   "execution_count": 23,
   "id": "bc17e354",
   "metadata": {},
   "outputs": [],
   "source": [
    "mp3 = MP3player(\"ok\", 15, 30, \"musica\")"
   ]
  },
  {
   "cell_type": "code",
   "execution_count": 25,
   "id": "54f74d42",
   "metadata": {},
   "outputs": [
    {
     "name": "stdout",
     "output_type": "stream",
     "text": [
      "TESTE: ok, Tamanho: 15, Interface: 30, Musica: musica \n"
     ]
    }
   ],
   "source": [
    "print(mp3)"
   ]
  }
 ],
 "metadata": {
  "kernelspec": {
   "display_name": "Python 3 (ipykernel)",
   "language": "python",
   "name": "python3"
  },
  "language_info": {
   "codemirror_mode": {
    "name": "ipython",
    "version": 3
   },
   "file_extension": ".py",
   "mimetype": "text/x-python",
   "name": "python",
   "nbconvert_exporter": "python",
   "pygments_lexer": "ipython3",
   "version": "3.9.13"
  }
 },
 "nbformat": 4,
 "nbformat_minor": 5
}
