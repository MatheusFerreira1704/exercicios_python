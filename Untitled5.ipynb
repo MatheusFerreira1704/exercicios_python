{
 "cells": [
  {
   "cell_type": "code",
   "execution_count": 2,
   "id": "badf4a1c",
   "metadata": {},
   "outputs": [],
   "source": [
    "import pandas as pd\n",
    "import numpy as np"
   ]
  },
  {
   "cell_type": "code",
   "execution_count": 4,
   "id": "33fbc512",
   "metadata": {},
   "outputs": [],
   "source": [
    "olimpo_acordos = pd.read_csv('/home/matheusf/Downloads/acordos_olimpo.csv')"
   ]
  },
  {
   "cell_type": "code",
   "execution_count": 8,
   "id": "38cb3baf",
   "metadata": {},
   "outputs": [],
   "source": [
    "olimpo_acordos.columns = np.select(\n",
    "    [(olimpo_acordos.columns.str.contains('ENDOGENA'))|(olimpo_acordos.columns.str.contains('RA_COB'))],\n",
    "    [olimpo_acordos.columns],\n",
    "    'ACR_'+olimpo_acordos.columns\n",
    ")"
   ]
  },
  {
   "cell_type": "code",
   "execution_count": 9,
   "id": "052c7e11",
   "metadata": {},
   "outputs": [
    {
     "name": "stdout",
     "output_type": "stream",
     "text": [
      "  ENDOGENA ACR_TESTE4 ACR_TESTE5 ACR_TESTE8\n",
      "0      SIM        NAO        SIM         OK\n",
      "1      SIM      SALVO        NAO         OK\n",
      "2      SIM        NAO        NAO         OK\n",
      "3      SIM      SALVO        SIM         OK\n"
     ]
    }
   ],
   "source": [
    "print(olimpo_acordos)"
   ]
  },
  {
   "cell_type": "code",
   "execution_count": null,
   "id": "629bbed2",
   "metadata": {},
   "outputs": [],
   "source": []
  }
 ],
 "metadata": {
  "kernelspec": {
   "display_name": "Python 3 (ipykernel)",
   "language": "python",
   "name": "python3"
  },
  "language_info": {
   "codemirror_mode": {
    "name": "ipython",
    "version": 3
   },
   "file_extension": ".py",
   "mimetype": "text/x-python",
   "name": "python",
   "nbconvert_exporter": "python",
   "pygments_lexer": "ipython3",
   "version": "3.9.13"
  }
 },
 "nbformat": 4,
 "nbformat_minor": 5
}
