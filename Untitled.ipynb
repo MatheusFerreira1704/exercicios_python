{
 "cells": [
  {
   "cell_type": "code",
   "execution_count": null,
   "id": "116dcd63",
   "metadata": {},
   "outputs": [],
   "source": [
    "       coup.expiration_date 'Fim Vigencia',\n",
    "       coup.type as 'Tipo Calculo Desconto',\n",
    "       coup.discount as 'Valor Tipo Desconto',\n",
    "       i.interest AS 'Juros',\n",
    "       i.fine AS 'Multa',\n",
    "       i.other_increment AS 'Outros Acréscimos',\n",
    "       i.amount - i.discount + i.interest + i.fine + i.other_increment as 'Valor Liquido',\n",
    "       pp.amount AS 'Valor Baixa',\n",
    "       i.paid_amount AS 'Valor Pago',\n",
    "       IF (trial.student_id IS NOT NULL, \"SIM\", \"NÃO\") AS \"Origem Free Trial\",\n",
    "       IF(trial.student_id IS NOT NULL AND i.instalment_number = 1, DATE_ADD(ce.start_date, INTERVAL 30 DAY),null) AS \"Data Final do Free trial\",\n",
    "       IF(trial.student_id IS NOT NULL and i.instalment_number = 1 and DATE_ADD(ce.start_date, INTERVAL 30 DAY) > CURDATE(), 'SIM','NAO') AS \"Em Trial\",\n",
    "       ic.charge_id AS id_cobranca,\n",
    "       ic.created_date AS 'Data Cobranca',\n",
    "       pp.recurring_credit_card_id as 'ID Cartao Recorrente',\n",
    "       cc.brand as 'Marca Cartao',\n",
    "       r.description as 'Motivo Evasao',\n",
    "       r.student_description as 'Submotivo Evasao',\n",
    "       ce.student_reason_elaboration as 'Obs do Aluno',\n",
    "       sysdate() as dt_base"
   ]
  },
  {
   "cell_type": "code",
   "execution_count": null,
   "id": "515c0200",
   "metadata": {},
   "outputs": [],
   "source": [
    "enrollment_course_enrollment = spark.read.parquet('s3a://cdl-relacionamentoaluno-us-east-1-660894085742-dev-integration/AMPLI/ENROLLMENT_COURSE_ENROLLMENT')\n",
    "financial_payment_plan = spark.read.parquet('s3a://cdl-relacionamentoaluno-us-east-1-660894085742-dev-integration/AMPLI/FINANCIAL_PAYMENT_PLAN')\n",
    "financial_instalment = spark.read.parquet('s3a://cdl-relacionamentoaluno-us-east-1-660894085742-dev-integration/AMPLI/FINANCIAL_INSTALMENT')\n",
    "course_course = spark.read.parquet('s3a://cdl-relacionamentoaluno-us-east-1-660894085742-dev-integration/AMPLI/COURSE_COURSE')\n",
    "financial_instalment_charge = spark.read.parquet('s3a://cdl-relacionamentoaluno-us-east-1-660894085742-dev-integration/AMPLI/FINANCIAL_INSTALMENT_CHARGE')\n",
    "payment_charge = spark.read.parquet('s3a://cdl-relacionamentoaluno-us-east-1-660894085742-dev-integration/AMPLI/PAYMENT_CHARGE')\n",
    "payment_credit_card = spark.read.parquet('s3a://cdl-relacionamentoaluno-us-east-1-660894085742-dev-integration/AMPLI/PAYMENT_CREDIT_CARD')\n",
    "coupon_coupon = spark.read.parquet('s3a://cdl-relacionamentoaluno-us-east-1-660894085742-dev-integration/AMPLI/COUPON_COUPON')\n",
    "enrollment_reason = spark.read.parquet('s3a://cdl-relacionamentoaluno-us-east-1-660894085742-dev-integration/AMPLI/ENROLLMENT_REASON')"
   ]
  },
  {
   "cell_type": "code",
   "execution_count": null,
   "id": "047e3d18",
   "metadata": {},
   "outputs": [],
   "source": [
    "\n",
    "FROM enrollment_course_enrollment ce-- \n",
    "LEFT JOIN financial_payment_plan trial ON trial.student_id = \n",
    "ce.student_id AND trial.coupon_code = 'FTGROWTH21'-- \n",
    "INNER JOIN financial_payment_plan pp ON ce.student_id = pp.student_id AND pp.course_id = ce.course_id-- \n",
    "INNER JOIN financial_instalment i ON i.payment_plan_id = pp.id-- \n",
    "INNER JOIN course_course c ON ce.course_id = c.id-- \n",
    "LEFT JOIN financial_instalment_charge ic ON ic.instalment_id = i.id-- \n",
    "LEFT JOIN payment_charge pc on ic.charge_id = pc.id-- \n",
    "LEFT JOIN payment_credit_card cc on cc.id = pc.credit_card_id-- \n",
    "LEFT JOIN coupon_coupon coup ON i.coupon_code = coup.code-- \n",
    "LEFT JOIN enrollment_reason r ON r.code = ce.reason_code\n",
    "\n"
   ]
  },
  {
   "cell_type": "code",
   "execution_count": null,
   "id": "2a019c88",
   "metadata": {},
   "outputs": [],
   "source": []
  },
  {
   "cell_type": "code",
   "execution_count": null,
   "id": "287d134b",
   "metadata": {},
   "outputs": [],
   "source": []
  },
  {
   "cell_type": "code",
   "execution_count": null,
   "id": "81bd7edd",
   "metadata": {},
   "outputs": [],
   "source": []
  },
  {
   "cell_type": "code",
   "execution_count": null,
   "id": "40ad85b1",
   "metadata": {},
   "outputs": [],
   "source": []
  }
 ],
 "metadata": {
  "kernelspec": {
   "display_name": "Python 3 (ipykernel)",
   "language": "python",
   "name": "python3"
  },
  "language_info": {
   "codemirror_mode": {
    "name": "ipython",
    "version": 3
   },
   "file_extension": ".py",
   "mimetype": "text/x-python",
   "name": "python",
   "nbconvert_exporter": "python",
   "pygments_lexer": "ipython3",
   "version": "3.9.13"
  }
 },
 "nbformat": 4,
 "nbformat_minor": 5
}
