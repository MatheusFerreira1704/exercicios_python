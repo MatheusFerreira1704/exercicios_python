{
 "cells": [
  {
   "cell_type": "code",
   "execution_count": 2,
   "id": "0549f995",
   "metadata": {},
   "outputs": [],
   "source": [
    "planetas = [\"Mercúrio\", \"Vênus\", \"Terra\", \"Marte\", \"Júpiter\", \"Saturno\", \"Urano\",\"Netuno\"]"
   ]
  },
  {
   "cell_type": "code",
   "execution_count": 4,
   "id": "f91db9d1",
   "metadata": {},
   "outputs": [
    {
     "name": "stdout",
     "output_type": "stream",
     "text": [
      "0 Mercúrio\n",
      "1 Vênus\n",
      "2 Terra\n",
      "3 Marte\n",
      "4 Júpiter\n",
      "5 Saturno\n",
      "6 Urano\n",
      "7 Netuno\n"
     ]
    }
   ],
   "source": [
    "for i in range(len(planetas)):\n",
    "    print(i, planetas[i])"
   ]
  },
  {
   "cell_type": "code",
   "execution_count": 5,
   "id": "99d5d974",
   "metadata": {},
   "outputs": [
    {
     "name": "stdout",
     "output_type": "stream",
     "text": [
      "0 Mercúrio\n",
      "1 Vênus\n",
      "2 Terra\n",
      "3 Marte\n",
      "4 Júpiter\n",
      "5 Saturno\n",
      "6 Urano\n",
      "7 Netuno\n"
     ]
    }
   ],
   "source": [
    "for i, planeta in enumerate(planetas):\n",
    "    print(i, planeta)"
   ]
  },
  {
   "cell_type": "code",
   "execution_count": 6,
   "id": "5ea227cd",
   "metadata": {},
   "outputs": [],
   "source": [
    "skills = {\"velocidade\":8, \"sabedoria\":7, \"carisma\":9}"
   ]
  },
  {
   "cell_type": "code",
   "execution_count": 16,
   "id": "3aba40e8",
   "metadata": {},
   "outputs": [
    {
     "name": "stdout",
     "output_type": "stream",
     "text": [
      "8\n",
      "7\n",
      "9\n"
     ]
    }
   ],
   "source": [
    "for k in skills.values():\n",
    "    print(k)\n",
    "    "
   ]
  },
  {
   "cell_type": "code",
   "execution_count": 23,
   "id": "bb27b0ab",
   "metadata": {},
   "outputs": [],
   "source": [
    "notas = [10,6,4,1,3,2,0,7]"
   ]
  },
  {
   "cell_type": "code",
   "execution_count": 22,
   "id": "06407492",
   "metadata": {},
   "outputs": [
    {
     "name": "stdout",
     "output_type": "stream",
     "text": [
      "4.125\n"
     ]
    }
   ],
   "source": [
    "media_notas = sum(notas) / len(notas)\n",
    "\n",
    "print(media_notas)"
   ]
  },
  {
   "cell_type": "code",
   "execution_count": 24,
   "id": "d318f246",
   "metadata": {},
   "outputs": [
    {
     "name": "stdout",
     "output_type": "stream",
     "text": [
      "10\n"
     ]
    }
   ],
   "source": [
    "maior_nota = notas[0]\n",
    "for n in notas: \n",
    "    if n > maior_nota:\n",
    "        maior_nota = n\n",
    "        \n",
    "print(maior_nota)"
   ]
  }
 ],
 "metadata": {
  "kernelspec": {
   "display_name": "Python 3 (ipykernel)",
   "language": "python",
   "name": "python3"
  },
  "language_info": {
   "codemirror_mode": {
    "name": "ipython",
    "version": 3
   },
   "file_extension": ".py",
   "mimetype": "text/x-python",
   "name": "python",
   "nbconvert_exporter": "python",
   "pygments_lexer": "ipython3",
   "version": "3.9.13"
  }
 },
 "nbformat": 4,
 "nbformat_minor": 5
}
