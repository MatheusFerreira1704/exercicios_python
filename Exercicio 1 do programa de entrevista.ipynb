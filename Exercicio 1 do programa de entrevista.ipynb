{
 "cells": [
  {
   "cell_type": "code",
   "execution_count": 1,
   "id": "8e7ba41a",
   "metadata": {},
   "outputs": [],
   "source": [
    "lista_mercado = ['Banana', 'pera', 'Uva', 'Pera', 'banana', 'Abacaxi', 'banana', 'abacaxi'] "
   ]
  },
  {
   "cell_type": "code",
   "execution_count": 10,
   "id": "c431f608",
   "metadata": {},
   "outputs": [
    {
     "name": "stdout",
     "output_type": "stream",
     "text": [
      "['banana'] 1\n",
      "['pera'] 1\n",
      "['uva'] 1\n",
      "['pera'] 1\n",
      "['banana'] 1\n",
      "['abacaxi'] 1\n",
      "['banana'] 1\n",
      "['abacaxi'] 1\n"
     ]
    }
   ],
   "source": [
    "for x in lista_mercado:\n",
    "    contar = []\n",
    "    contar.append(x.lower())\n",
    "    \n",
    "    if x == x: \n",
    "        numero = 0\n",
    "        numero += 1 \n",
    "    print(contar, numero)\n",
    "    "
   ]
  },
  {
   "cell_type": "code",
   "execution_count": 21,
   "id": "c2cbc55d",
   "metadata": {},
   "outputs": [],
   "source": [
    "from collections import Counter\n",
    "lista_mercado = ['Banana', 'pera', 'Uva', 'Pera', 'banana', 'Abacaxi', 'banana', 'abacaxi']\n",
    "\n",
    "lista_minuscula = []\n",
    "\n",
    "for x in lista_mercado:\n",
    "    lista_minuscula.append(x.lower())\n",
    "    \n",
    "a = Counter(lista_minuscula)\n"
   ]
  },
  {
   "cell_type": "code",
   "execution_count": 22,
   "id": "1f760e06",
   "metadata": {},
   "outputs": [
    {
     "name": "stdout",
     "output_type": "stream",
     "text": [
      "Counter({'banana': 3, 'pera': 2, 'abacaxi': 2, 'uva': 1})\n"
     ]
    }
   ],
   "source": [
    "print(a)"
   ]
  },
  {
   "cell_type": "code",
   "execution_count": 12,
   "id": "ce494e8f",
   "metadata": {},
   "outputs": [
    {
     "name": "stdout",
     "output_type": "stream",
     "text": [
      "Counter({'a': 3, 'c': 3, 'b': 1})\n"
     ]
    }
   ],
   "source": [
    "\n",
    "\n",
    "from collections import Counter\n",
    "MyList = [\"a\", \"b\", \"a\", \"c\", \"c\", \"a\", \"c\"]\n",
    "c = Counter(MyList)\n",
    "print(c)"
   ]
  },
  {
   "cell_type": "code",
   "execution_count": null,
   "id": "485ce5fb",
   "metadata": {},
   "outputs": [],
   "source": []
  },
  {
   "cell_type": "code",
   "execution_count": null,
   "id": "1a43716c",
   "metadata": {},
   "outputs": [],
   "source": []
  },
  {
   "cell_type": "code",
   "execution_count": null,
   "id": "ee2dea9c",
   "metadata": {},
   "outputs": [],
   "source": []
  },
  {
   "cell_type": "code",
   "execution_count": null,
   "id": "f61fa57d",
   "metadata": {},
   "outputs": [],
   "source": []
  },
  {
   "cell_type": "code",
   "execution_count": null,
   "id": "bb268909",
   "metadata": {},
   "outputs": [],
   "source": []
  }
 ],
 "metadata": {
  "kernelspec": {
   "display_name": "Python 3 (ipykernel)",
   "language": "python",
   "name": "python3"
  },
  "language_info": {
   "codemirror_mode": {
    "name": "ipython",
    "version": 3
   },
   "file_extension": ".py",
   "mimetype": "text/x-python",
   "name": "python",
   "nbconvert_exporter": "python",
   "pygments_lexer": "ipython3",
   "version": "3.9.13"
  }
 },
 "nbformat": 4,
 "nbformat_minor": 5
}
