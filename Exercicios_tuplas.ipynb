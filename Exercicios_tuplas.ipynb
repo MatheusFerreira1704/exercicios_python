{
 "cells": [
  {
   "cell_type": "markdown",
   "id": "6ae06a32",
   "metadata": {},
   "source": [
    "Criar um programa que tenha uma tupla totalmente preenchida com uma contagem por extenso, de zero até vinte. Seu programa deverá ler um numero pelo teclado entra 0 e 20 e mostra-lo por extenso."
   ]
  },
  {
   "cell_type": "code",
   "execution_count": 1,
   "id": "1501c963",
   "metadata": {},
   "outputs": [],
   "source": [
    "tupla = ('zero','um', 'dois', 'três', 'quatro', 'cinco', 'seis', 'sete', 'oito', 'nove', 'dez', 'onze', 'doze',\n",
    "        'treze', 'cartoze', 'quinze', 'deseseis', 'desessete', 'dezoito','dezenove', 'vinte')"
   ]
  },
  {
   "cell_type": "code",
   "execution_count": 2,
   "id": "da315147",
   "metadata": {},
   "outputs": [
    {
     "name": "stdout",
     "output_type": "stream",
     "text": [
      "Digite um número de 0 a 20: 8\n",
      "oito\n"
     ]
    }
   ],
   "source": [
    "numero = int(input('Digite um número de 0 a 20: '))\n",
    "while numero < 0 or numero > 20:\n",
    "    numero = int(input('Digite um número de 0 a 20: '))\n",
    "\n",
    "print(tupla[numero])"
   ]
  },
  {
   "cell_type": "markdown",
   "id": "6dc7d64f",
   "metadata": {},
   "source": [
    "Crie uma tupla preenchida com os 20 primeiros colocados da tabela do campeonato brasileiro de futebol, na ordem de colocação. Depois mostre? 1) Apenas os 5 primeiros colocados 2) Os últimos 4 colocados da tabela 3) Uma lista com os times em ordem alfabética 4)Em que posição na tabela está o time da chapecoense"
   ]
  },
  {
   "cell_type": "code",
   "execution_count": 3,
   "id": "bbe35440",
   "metadata": {},
   "outputs": [],
   "source": [
    "time = ('Palmeiras', 'Fluminense', 'Flamengo', 'Corinthias', 'Internacional', 'Athletico-PR', 'Atlético-MG',\n",
    "'Santos', 'América-MG', 'Bragantino', 'Goiás', 'São Paulo', 'Fortaleza', 'Botafogo', 'Cuiabá', 'Avái', 'Coritiba', 'Atlético-GO', 'Juventude')"
   ]
  },
  {
   "cell_type": "markdown",
   "id": "d35687c8",
   "metadata": {},
   "source": [
    "1) Apenas os 5 primeiros colocados"
   ]
  },
  {
   "cell_type": "code",
   "execution_count": 4,
   "id": "9ccbb41a",
   "metadata": {},
   "outputs": [
    {
     "name": "stdout",
     "output_type": "stream",
     "text": [
      "('Palmeiras', 'Fluminense', 'Flamengo', 'Corinthias', 'Internacional')\n"
     ]
    }
   ],
   "source": [
    "print(time[:5])"
   ]
  },
  {
   "cell_type": "markdown",
   "id": "d12a635d",
   "metadata": {},
   "source": [
    "2) Os últimos 4 colocados da tabela"
   ]
  },
  {
   "cell_type": "code",
   "execution_count": 5,
   "id": "dc425626",
   "metadata": {},
   "outputs": [
    {
     "name": "stdout",
     "output_type": "stream",
     "text": [
      "('Avái', 'Coritiba', 'Atlético-GO', 'Juventude')\n"
     ]
    }
   ],
   "source": [
    "print(time[15:])"
   ]
  },
  {
   "cell_type": "markdown",
   "id": "a280edb7",
   "metadata": {},
   "source": [
    "3) Uma lista com os times em ordem alfabética"
   ]
  },
  {
   "cell_type": "code",
   "execution_count": 6,
   "id": "5fdaa16d",
   "metadata": {},
   "outputs": [
    {
     "name": "stdout",
     "output_type": "stream",
     "text": [
      "['América-MG', 'Athletico-PR', 'Atlético-GO', 'Atlético-MG', 'Avái', 'Botafogo', 'Bragantino', 'Corinthias', 'Coritiba', 'Cuiabá', 'Flamengo', 'Fluminense', 'Fortaleza', 'Goiás', 'Internacional', 'Juventude', 'Palmeiras', 'Santos', 'São Paulo']\n"
     ]
    }
   ],
   "source": [
    "print(sorted(time))"
   ]
  },
  {
   "cell_type": "markdown",
   "id": "4813899c",
   "metadata": {},
   "source": [
    "4)Em que posição na tabela está o time da Internacional"
   ]
  },
  {
   "cell_type": "code",
   "execution_count": 7,
   "id": "6d0bce25",
   "metadata": {},
   "outputs": [
    {
     "name": "stdout",
     "output_type": "stream",
     "text": [
      "O Internacional está na 5ª posição\n"
     ]
    }
   ],
   "source": [
    "posicao = time.index('Internacional') + 1\n",
    "\n",
    "print(f'O Internacional está na {posicao}ª posição' )"
   ]
  },
  {
   "cell_type": "markdown",
   "id": "bdb9cc84",
   "metadata": {},
   "source": [
    "Crie um programa que vai gerar cinco número aleatórios e colocar em uma tupla. Depois disso, mostre a listagem de números gerados e também indique o menor e o maior valor que estão na tupla."
   ]
  },
  {
   "cell_type": "code",
   "execution_count": 8,
   "id": "e9fc6f4d",
   "metadata": {},
   "outputs": [],
   "source": [
    "import random"
   ]
  },
  {
   "cell_type": "code",
   "execution_count": 9,
   "id": "e1c8ec5b",
   "metadata": {},
   "outputs": [
    {
     "name": "stdout",
     "output_type": "stream",
     "text": [
      "Os numeros soteados foram: (39, 27, 30, 34, 29)\n",
      "O maior valor foi: 39\n",
      "O menor valor foi: 27\n"
     ]
    }
   ],
   "source": [
    "a = random.randint(1, 100)\n",
    "b = random.randint(1, 100)\n",
    "c = random.randint(1, 100)\n",
    "d = random.randint(1, 100)\n",
    "e = random.randint(1, 100)\n",
    "\n",
    "tupla_alea = (a, b, c, d, e)\n",
    "\n",
    "print(f'Os numeros soteados foram: {tupla_alea}')\n",
    "\n",
    "print(f'O maior valor foi: {max(tupla_alea)}')\n",
    "\n",
    "print(f'O menor valor foi: {min(tupla_alea)}')"
   ]
  },
  {
   "cell_type": "markdown",
   "id": "538fdac5",
   "metadata": {},
   "source": [
    "Desenvolva um programa que leia 4 valores pelo teclado, guarde-os em uma tupla, no final mostre: 1) Quantas vezes apareceu o valor 9. 2)Em que posição foi digitado o primeiro valor 3 3) quantos foram os números pares."
   ]
  },
  {
   "cell_type": "code",
   "execution_count": 11,
   "id": "83810bd2",
   "metadata": {},
   "outputs": [
    {
     "name": "stdout",
     "output_type": "stream",
     "text": [
      "Digite um número: 8\n",
      "Digite outro número: 6\n",
      "Digite mais número: 4\n",
      "Digite o último número: 5\n",
      "o numero 9 apareceu 0 vezes.\n",
      "O numero 3 não foi digitado em nenhuma posição.\n",
      "Os numero pares foram: 8\n",
      "Os numero pares foram: 6\n",
      "Os numero pares foram: 4\n"
     ]
    }
   ],
   "source": [
    "valor_1 = int(input('Digite um número: '))\n",
    "valor_2 = int(input('Digite outro número: '))\n",
    "valor_3 = int(input('Digite mais número: '))\n",
    "valor_4 = int(input('Digite o último número: '))\n",
    "\n",
    "\n",
    "tupla_numeros = (valor_1, valor_2, valor_3, valor_4)\n",
    "\n",
    "print(f'o numero 9 apareceu {tupla_numeros.count(9)} vezes.')\n",
    "try:\n",
    "    print(f'o numero 3 apareceu foi encontrado na posição {tupla_numeros.index(3)}.')\n",
    "except:\n",
    "    print('O numero 3 não foi digitado em nenhuma posição.')\n",
    "    \n",
    "for x in tupla_numeros:\n",
    "    if (x % 2 == 0):\n",
    "        print(f'Os numero pares foram: {x}')\n",
    "    \n",
    "\n",
    "\n",
    "#print(f'O valor 3 foi digitado')"
   ]
  },
  {
   "cell_type": "markdown",
   "id": "062a6f7f",
   "metadata": {},
   "source": [
    "Crie um programa que tenha uma tupla única com nomes de produtos e seus respectivos preços na sequência. No final, mostre uma listagem de preços organizando os dados em forma tabular.        "
   ]
  },
  {
   "cell_type": "code",
   "execution_count": 12,
   "id": "327e6656",
   "metadata": {},
   "outputs": [],
   "source": [
    "produtos = ('SSD', 70, 'HD', 250, 'Memória', 320, 'Monitor', 650)"
   ]
  },
  {
   "cell_type": "code",
   "execution_count": 18,
   "id": "76a30f01",
   "metadata": {},
   "outputs": [
    {
     "name": "stdout",
     "output_type": "stream",
     "text": [
      "--------------------------------------------------------------------------\n",
      "------------------------------PRODUTOS------------------------------------\n",
      "--------------------------------------------------------------------------\n",
      "Produto:SSD......................................................... R$ 70\n",
      "Produto:HD.......................................................... R$ 250\n",
      "Produto:Memória..................................................... R$ 320\n",
      "Produto:Monitor..................................................... R$ 650\n"
     ]
    }
   ],
   "source": [
    "print('--------------------------------------------------------------------------')\n",
    "print('------------------------------PRODUTOS------------------------------------')\n",
    "print('--------------------------------------------------------------------------')\n",
    "print(f'Produto:{produtos[0]}......................................................... R$ {produtos[1]}')\n",
    "print(f'Produto:{produtos[2]}.......................................................... R$ {produtos[3]}')\n",
    "print(f'Produto:{produtos[4]}..................................................... R$ {produtos[5]}')\n",
    "print(f'Produto:{produtos[6]}..................................................... R$ {produtos[7]}')"
   ]
  },
  {
   "cell_type": "markdown",
   "id": "5a270577",
   "metadata": {},
   "source": [
    "Crie um programa que tenha uma tupla com várias palavras ( não usar acentos). Depois disso, você deve mostrar, para cada palavra quais são as suas vogais."
   ]
  },
  {
   "cell_type": "code",
   "execution_count": null,
   "id": "c6ac2dbd",
   "metadata": {},
   "outputs": [],
   "source": []
  }
 ],
 "metadata": {
  "kernelspec": {
   "display_name": "Python 3 (ipykernel)",
   "language": "python",
   "name": "python3"
  },
  "language_info": {
   "codemirror_mode": {
    "name": "ipython",
    "version": 3
   },
   "file_extension": ".py",
   "mimetype": "text/x-python",
   "name": "python",
   "nbconvert_exporter": "python",
   "pygments_lexer": "ipython3",
   "version": "3.9.13"
  }
 },
 "nbformat": 4,
 "nbformat_minor": 5
}
