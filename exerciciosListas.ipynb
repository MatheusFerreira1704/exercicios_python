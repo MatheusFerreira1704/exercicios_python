{
 "cells": [
  {
   "cell_type": "markdown",
   "id": "12dfad60",
   "metadata": {},
   "source": [
    "# Exercicios listas Python Brasil"
   ]
  },
  {
   "cell_type": "code",
   "execution_count": null,
   "id": "95119c8a",
   "metadata": {},
   "outputs": [],
   "source": [
    "#1 - Faça um Programa que leia um vetor de 5 números inteiros e mostre-os.\n",
    "\n",
    "lista = [1, 2, 3, 4, 5]\n",
    "print(lista)"
   ]
  },
  {
   "cell_type": "code",
   "execution_count": null,
   "id": "50476f78",
   "metadata": {},
   "outputs": [],
   "source": [
    "#2 - Faça um Programa que leia um vetor de 10 números reais e mostre-os na ordem inversa.\n",
    "lista = [1, 2, 3, 4, 5, 6, 7, 8, 9, 10]\n",
    "lista.reverse()\n",
    "print(lista)"
   ]
  },
  {
   "cell_type": "code",
   "execution_count": null,
   "id": "9c756af4",
   "metadata": {},
   "outputs": [],
   "source": [
    "#3 - Faça um Programa que leia 4 notas, mostre as notas e a média na tela.\n",
    "notas = [10, 9, 9, 7]\n",
    "for i in notas:\n",
    "    print('nota: ', i)\n",
    "    \n",
    "media = sum(notas) / 4\n",
    "\n",
    "print('Media: ', media)\n"
   ]
  },
  {
   "cell_type": "code",
   "execution_count": null,
   "id": "574ca446",
   "metadata": {},
   "outputs": [],
   "source": [
    "#4 - Faça um Programa que leia um vetor de 10 caracteres, e diga quantas consoantes foram lidas. \n",
    "# Imprima as consoantes.\n",
    "\n",
    "\n",
    "\n",
    "\n"
   ]
  },
  {
   "cell_type": "code",
   "execution_count": null,
   "id": "38772c87",
   "metadata": {},
   "outputs": [],
   "source": [
    "#5 - Faça um Programa que leia 20 números inteiros e armazene-os num vetor. \n",
    "#Armazene os números pares no vetor PAR e os números IMPARES no vetor impar. \n",
    "#Imprima os três vetores.\n",
    "numeros = [1,2,3,4,5,6,7,8,9,10,11,12,13,14,15,16,17,18,19,20]\n",
    "numeros_par = [x for x in numeros if x % 2 == 0 ]\n",
    "numeros_impar = [x for x in numeros if x % 2 != 0]\n",
    "print(numeros)\n",
    "print(list(numeros_par))\n",
    "print(list(numeros_impar))"
   ]
  },
  {
   "cell_type": "code",
   "execution_count": null,
   "id": "364c2a48",
   "metadata": {},
   "outputs": [],
   "source": [
    "#6 - Faça um Programa que peça as quatro notas de 10 alunos, \n",
    "#calcule e armazene num vetor a média de cada aluno, imprima o número de alunos com média maior ou igual a 7.0.\n",
    "\n",
    "lista_media = []\n",
    "while(len(lista_media) < 10):\n",
    "    nota1 = float(input('Digite sua nota 1: '))\n",
    "    nota2 = float(input('Digite sua nota 2: '))\n",
    "    nota3 = float(input('Digite sua nota 3: '))\n",
    "    nota4 = float(input('Digite sua nota 4: '))\n",
    "    \n",
    "    media = (nota1+ nota2+ nota3+ nota4) / 4 \n",
    "    \n",
    "    lista_media.append(media)\n",
    "    \n",
    "aprovados = [x for x in lista_media if x >= 7.0]\n",
    "print(len(aprovados))\n",
    "\n",
    "    \n",
    "    "
   ]
  },
  {
   "cell_type": "code",
   "execution_count": null,
   "id": "15325044",
   "metadata": {},
   "outputs": [],
   "source": [
    "#7 - Faça um Programa que leia um vetor de 5 números inteiros, mostre a soma, a multiplicação e os números.\n",
    "\n",
    "from functools import reduce\n",
    "inteiros = [2, 3, 4, 5, 6]\n",
    "soma = reduce(lambda x,y: x+y, inteiros)\n",
    "mult = reduce(lambda x,y: x*y, inteiros)\n",
    "\n",
    "print(inteiros)\n",
    "print(soma)\n",
    "print(mult)\n"
   ]
  },
  {
   "cell_type": "code",
   "execution_count": 7,
   "id": "d21ef128",
   "metadata": {},
   "outputs": [
    {
     "name": "stdout",
     "output_type": "stream",
     "text": [
      "Digite sua idade: 27\n",
      "Digite sua altura: 1.85\n",
      "Digite sua idade: 28\n",
      "Digite sua altura: 1.65\n",
      "Digite sua idade: 33\n",
      "Digite sua altura: 1.89\n",
      "Digite sua idade: 55\n",
      "Digite sua altura: 1.48\n",
      "Digite sua idade: 65\n",
      "Digite sua altura: 2.0\n",
      "[65, 55, 33, 28, 27]\n",
      "[2.0, 1.48, 1.89, 1.65, 1.85]\n"
     ]
    }
   ],
   "source": [
    "#8 - Faça um Programa que peça a idade e a altura de 5 pessoas, armazene cada informação no seu respectivo vetor. \n",
    "#Imprima a idade e a altura na ordem inversa a ordem lida.\n",
    "\n",
    "#criando as listas vazias\n",
    "list_idade = []\n",
    "list_altura = []\n",
    "#repetição para preencher 5 valores de entrada\n",
    "while(len(list_idade) & len(list_altura) < 5):\n",
    "    #entrada da idade\n",
    "    idade = int(input('Digite sua idade: '))\n",
    "    #entrada da altura\n",
    "    altura = float(input('Digite sua altura: '))\n",
    "    \n",
    "    #adicionando valor a lista idade\n",
    "    list_idade.append(idade)\n",
    "    #adicionando valor a lista altura\n",
    "    list_altura.append(altura)\n",
    "    \n",
    "    \n",
    "list_idade.reverse()\n",
    "list_altura.reverse()\n",
    "\n",
    "print(list_idade)\n",
    "print(list_altura)\n",
    "    \n",
    "\n",
    "    #impressao da idade na ordem reversa\n",
    "#print('Lista inversa de idade: ', list_idade.reverse())\n",
    "    #impressao da altura na ordem reversa\n",
    "#print('Lista inversa de altura: ', list_altura.reverse())"
   ]
  },
  {
   "cell_type": "code",
   "execution_count": 9,
   "id": "4d7273e7",
   "metadata": {},
   "outputs": [
    {
     "name": "stdout",
     "output_type": "stream",
     "text": [
      "25800022600047052140012507345164607168429796314974446082384073840147073775468094045329287185417173482087059144697336379483484925016241871310518944097995034059103738852836322303863800321890406457125\n"
     ]
    }
   ],
   "source": [
    "#9 - Faça um Programa que leia um vetor A com 10 números inteiros, \n",
    "# calcule e mostre a soma dos quadrados dos elementos do vetor.\n",
    "from functools import reduce\n",
    "A = [1, 2, 3, 4, 5, 6, 7, 8, 9, 10]\n",
    "\n",
    "soma = reduce(lambda x,y:x**2 + y**2, A)\n",
    "print(soma)\n"
   ]
  },
  {
   "cell_type": "code",
   "execution_count": 19,
   "id": "f5c85987",
   "metadata": {},
   "outputs": [
    {
     "name": "stdout",
     "output_type": "stream",
     "text": [
      "[(0, 10), (1, 11), (2, 12), (3, 13), (4, 14), (5, 15), (6, 16), (7, 17), (8, 18), (9, 19)]\n"
     ]
    }
   ],
   "source": [
    "#10 - Faça um Programa que leia dois vetores com 10 elementos cada. \n",
    "#Gere um terceiro vetor de 20 elementos, cujos valores deverão ser compostos pelos elementos intercalados \n",
    "#dos dois outros vetores.\n",
    "vetor1 = [0,1,2,3,4,5,6,7,8,9]\n",
    "vetor2 = [10,11,12,13,14,15,16,17,18,19,20]\n",
    "\n",
    "\n",
    "vetor3 = zip(vetor1,vetor2)\n",
    "\n",
    "print(list(vetor3))\n"
   ]
  },
  {
   "cell_type": "code",
   "execution_count": null,
   "id": "c3f55b7e",
   "metadata": {},
   "outputs": [],
   "source": []
  }
 ],
 "metadata": {
  "kernelspec": {
   "display_name": "Python 3 (ipykernel)",
   "language": "python",
   "name": "python3"
  },
  "language_info": {
   "codemirror_mode": {
    "name": "ipython",
    "version": 3
   },
   "file_extension": ".py",
   "mimetype": "text/x-python",
   "name": "python",
   "nbconvert_exporter": "python",
   "pygments_lexer": "ipython3",
   "version": "3.9.13"
  }
 },
 "nbformat": 4,
 "nbformat_minor": 5
}
