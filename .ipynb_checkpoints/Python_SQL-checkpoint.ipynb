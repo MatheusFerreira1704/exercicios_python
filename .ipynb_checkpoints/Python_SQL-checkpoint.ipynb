{
 "cells": [
  {
   "cell_type": "code",
   "execution_count": 2,
   "id": "71d57ac4",
   "metadata": {},
   "outputs": [],
   "source": [
    "#remover o banco caso exista.\n",
    "import os\n",
    "os.remove(\"escola.db\") if  os.path.exists(\"escola.db\") else None"
   ]
  },
  {
   "cell_type": "code",
   "execution_count": 3,
   "id": "028c63f1",
   "metadata": {},
   "outputs": [],
   "source": [
    "#importando o módulo do sqlite\n",
    "import sqlite3"
   ]
  },
  {
   "cell_type": "code",
   "execution_count": 4,
   "id": "a66be0c0",
   "metadata": {},
   "outputs": [],
   "source": [
    "#Cria uma conexão com banco\n",
    "#Verifica se o banco existe, caso não exista ele cria.\n",
    "con = sqlite3.connect('escola.db')"
   ]
  },
  {
   "cell_type": "code",
   "execution_count": 6,
   "id": "d5559456",
   "metadata": {},
   "outputs": [
    {
     "data": {
      "text/plain": [
       "sqlite3.Connection"
      ]
     },
     "execution_count": 6,
     "metadata": {},
     "output_type": "execute_result"
    }
   ],
   "source": [
    "type(con)"
   ]
  },
  {
   "cell_type": "code",
   "execution_count": 5,
   "id": "0f4c08f8",
   "metadata": {},
   "outputs": [],
   "source": [
    "#Criando um cursor\n",
    "#Um cursos permite percorrer todos os registros em um conjunto de dados\n",
    "\n",
    "cur = con.cursor()"
   ]
  },
  {
   "cell_type": "code",
   "execution_count": 8,
   "id": "74fb1ef7",
   "metadata": {},
   "outputs": [
    {
     "data": {
      "text/plain": [
       "sqlite3.Cursor"
      ]
     },
     "execution_count": 8,
     "metadata": {},
     "output_type": "execute_result"
    }
   ],
   "source": [
    "type(cur)"
   ]
  },
  {
   "cell_type": "code",
   "execution_count": 9,
   "id": "5bd08525",
   "metadata": {},
   "outputs": [],
   "source": [
    "#criando uma tabela \n",
    "sql_create = 'create table curso \\\n",
    "(id integer primary key, \\\n",
    "titulo varchar(100), \\\n",
    "categoria varchar(140))'\n"
   ]
  },
  {
   "cell_type": "code",
   "execution_count": 10,
   "id": "61d8ec7e",
   "metadata": {},
   "outputs": [
    {
     "data": {
      "text/plain": [
       "<sqlite3.Cursor at 0x7f2eff312d50>"
      ]
     },
     "execution_count": 10,
     "metadata": {},
     "output_type": "execute_result"
    }
   ],
   "source": [
    "#executando a crição da tabela\n",
    "cur.execute(sql_create)"
   ]
  },
  {
   "cell_type": "code",
   "execution_count": 11,
   "id": "32d41e5b",
   "metadata": {},
   "outputs": [],
   "source": [
    "#instrução para inserção de registros na tabela\n",
    "sql_insert = 'insert into curso values (?, ? , ?)'"
   ]
  },
  {
   "cell_type": "code",
   "execution_count": 12,
   "id": "70c47cdd",
   "metadata": {},
   "outputs": [],
   "source": [
    "#Dados a serem inseridos\n",
    "recset = [(1000, 'Ciência de Dados', 'Data Science'),\n",
    "          (1001, 'Big Data Fudamentos', 'Big Data'),\n",
    "          (1002, 'Python Fundamentos', 'Análise de Dados')]"
   ]
  },
  {
   "cell_type": "code",
   "execution_count": 14,
   "id": "d5d397c2",
   "metadata": {},
   "outputs": [],
   "source": [
    "#inserindo os registros\n",
    "for rec in recset:\n",
    "    cur.execute(sql_insert, rec)"
   ]
  },
  {
   "cell_type": "code",
   "execution_count": 15,
   "id": "dd5abe0a",
   "metadata": {},
   "outputs": [],
   "source": [
    "#Gravando as informações com o commit\n",
    "con.commit()"
   ]
  },
  {
   "cell_type": "code",
   "execution_count": 17,
   "id": "1ee63d64",
   "metadata": {},
   "outputs": [],
   "source": [
    "#Criando setença SQL para recuperação dos registros\n",
    "sql_select = 'select * from curso'"
   ]
  },
  {
   "cell_type": "code",
   "execution_count": 18,
   "id": "9cbc0f37",
   "metadata": {},
   "outputs": [],
   "source": [
    "#selecionar e recuperar registros\n",
    "cur.execute(sql_select)\n",
    "#salvar as informações em uma variavel\n",
    "dados = cur.fetchall()"
   ]
  },
  {
   "cell_type": "code",
   "execution_count": 20,
   "id": "ff46ddb3",
   "metadata": {},
   "outputs": [
    {
     "name": "stdout",
     "output_type": "stream",
     "text": [
      "Id Curso: 1000, Nome Curso: Ciência de Dados, Categoria Curso: Data Science\n",
      "Id Curso: 1001, Nome Curso: Big Data Fudamentos, Categoria Curso: Big Data\n",
      "Id Curso: 1002, Nome Curso: Python Fundamentos, Categoria Curso: Análise de Dados\n"
     ]
    }
   ],
   "source": [
    "#exibição dos dados\n",
    "for linha in dados:\n",
    "    print('Id Curso: %d, Nome Curso: %s, Categoria Curso: %s' % linha)"
   ]
  },
  {
   "cell_type": "code",
   "execution_count": 21,
   "id": "29b2f36f",
   "metadata": {},
   "outputs": [],
   "source": [
    "#adicionando novos registros\n",
    "recset = [(1003, 'Engenharia de Dados', 'Pós-Graduação'),\n",
    "         (1004, 'Cientista de Dados', 'Pós-Graduação')]\n",
    "\n",
    "#inserindo os novos registros\n",
    "for rec in recset:\n",
    "    cur.execute(sql_insert, rec)\n",
    "    \n",
    "#salvando a transação\n",
    "con.commit()"
   ]
  },
  {
   "cell_type": "code",
   "execution_count": 22,
   "id": "832507de",
   "metadata": {},
   "outputs": [],
   "source": [
    "#executando a transação de uma forma diferente\n",
    "cur.execute('select * from curso')\n",
    "receset = cur.fetchall()\n"
   ]
  },
  {
   "cell_type": "code",
   "execution_count": 23,
   "id": "864bf19a",
   "metadata": {},
   "outputs": [
    {
     "name": "stdout",
     "output_type": "stream",
     "text": [
      "Id Curso: 1000, Nome Curso: Ciência de Dados, Categoria Curso: Data Science\n",
      "Id Curso: 1001, Nome Curso: Big Data Fudamentos, Categoria Curso: Big Data\n",
      "Id Curso: 1002, Nome Curso: Python Fundamentos, Categoria Curso: Análise de Dados\n",
      "Id Curso: 1003, Nome Curso: Engenharia de Dados, Categoria Curso: Pós-Graduação\n",
      "Id Curso: 1004, Nome Curso: Cientista de Dados, Categoria Curso: Pós-Graduação\n"
     ]
    }
   ],
   "source": [
    "for rec in receset:\n",
    "    print('Id Curso: %d, Nome Curso: %s, Categoria Curso: %s' % rec)"
   ]
  }
 ],
 "metadata": {
  "kernelspec": {
   "display_name": "Python 3 (ipykernel)",
   "language": "python",
   "name": "python3"
  },
  "language_info": {
   "codemirror_mode": {
    "name": "ipython",
    "version": 3
   },
   "file_extension": ".py",
   "mimetype": "text/x-python",
   "name": "python",
   "nbconvert_exporter": "python",
   "pygments_lexer": "ipython3",
   "version": "3.9.13"
  }
 },
 "nbformat": 4,
 "nbformat_minor": 5
}
