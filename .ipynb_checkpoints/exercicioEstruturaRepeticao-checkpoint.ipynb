{
 "cells": [
  {
   "cell_type": "markdown",
   "id": "b8e1dd0a",
   "metadata": {},
   "source": [
    " # Execicios de estrutura de repitição do site Python Brasil"
   ]
  },
  {
   "cell_type": "code",
   "execution_count": 12,
   "id": "b8b6e6a1",
   "metadata": {},
   "outputs": [
    {
     "name": "stdout",
     "output_type": "stream",
     "text": [
      "Digite a nota: 100000\n",
      "Nota tem que ser entre 0 e 10. \n",
      "Digite a nota: 10000\n",
      "Nota tem que ser entre 0 e 10. \n",
      "Digite a nota: 10000\n",
      "Nota tem que ser entre 0 e 10. \n",
      "Digite a nota: 10\n",
      "Sua nota cadastrada foi de:  10\n"
     ]
    }
   ],
   "source": [
    "# 1ª Faça um programa que peça uma nota, entre zero e dez. \n",
    "#Mostre uma mensagem caso o valor seja inválido e continue pedindo até que o usuário informe um valor válido.\n",
    "\n",
    "\n",
    "nota = int(input('Digite a nota: '))\n",
    "while(nota < 0 or nota > 10):\n",
    "    print('Nota tem que ser entre 0 e 10. ')\n",
    "    nota = int(input('Digite a nota: '))\n",
    "    \n",
    "else:\n",
    "    print('Sua nota cadastrada foi de: ', nota)"
   ]
  },
  {
   "cell_type": "code",
   "execution_count": 14,
   "id": "3a829ee1",
   "metadata": {},
   "outputs": [
    {
     "name": "stdout",
     "output_type": "stream",
     "text": [
      "Digite seu nome: matheus\n",
      "Digite sua senha: matheus\n",
      "Senha não pode ser igual a nome.\n",
      "Digite sua senha: matheus\n",
      "Senha não pode ser igual a nome.\n",
      "Digite sua senha: lindo\n",
      "Usuário cadastrado com sucesso.\n"
     ]
    }
   ],
   "source": [
    "#2ª Faça um programa que leia um nome de usuário e a sua senha e não aceite a senha igual ao nome do usuário,\n",
    "# mostrando uma mensagem de erro e voltando a pedir as informações.\n",
    "nome = input('Digite seu nome: ')\n",
    "senha = input('Digite sua senha: ')\n",
    "while(senha == nome):\n",
    "    print('Senha não pode ser igual a nome.')\n",
    "    senha = input('Digite sua senha: ')\n",
    "    \n",
    "else:\n",
    "    print('Usuário cadastrado com sucesso.')"
   ]
  },
  {
   "cell_type": "code",
   "execution_count": 21,
   "id": "c0218814",
   "metadata": {},
   "outputs": [
    {
     "name": "stdout",
     "output_type": "stream",
     "text": [
      "Digite seu nome: joed\n",
      "Digite sua idade: 190\n",
      "Idade não pode ser menor que 0, nem maior que 150.\n",
      "Digite sua idade: 190\n",
      "Idade não pode ser menor que 0, nem maior que 150.\n",
      "Digite sua idade: 190\n",
      "Idade não pode ser menor que 0, nem maior que 150.\n",
      "Digite sua idade: 190\n",
      "Idade não pode ser menor que 0, nem maior que 150.\n",
      "Digite sua idade: 90\n",
      "Digite seu sexo: i\n",
      "Digite a letra (f) ou (m).\n",
      "Digite seu sexo: i\n",
      "Digite a letra (f) ou (m).\n",
      "Digite seu sexo: i\n",
      "Digite a letra (f) ou (m).\n",
      "Digite seu sexo: i\n",
      "Digite a letra (f) ou (m).\n",
      "Digite seu sexo: i\n",
      "Digite a letra (f) ou (m).\n",
      "Digite seu sexo: d\n",
      "Digite a letra (f) ou (m).\n",
      "Digite seu sexo: f\n",
      "Digite seu estado civil: d\n",
      "********** Individuo Cadastrado **********\n",
      "Nome:  joed\n",
      "Idade:  90\n",
      "Sexo:  f\n",
      "Estado Civil:  d\n"
     ]
    }
   ],
   "source": [
    "#3ª Faça um programa que leia e valide as seguintes informações:\n",
    "#Nome: maior que 3 caracteres;\n",
    "#Idade: entre 0 e 150;\n",
    "#Salário: maior que zero;\n",
    "#Sexo: 'f' ou 'm';\n",
    "#Estado Civil: 's', 'c', 'v', 'd';\n",
    "sexo_values = ['f', 'm']\n",
    "estado_civil_values = ['s','c','v','d']\n",
    "\n",
    "\n",
    "nome = input('Digite seu nome: ')\n",
    "while(len(nome) < 3):\n",
    "    print('Nome tem que possui mais de caracters.')\n",
    "    nome = input('Digite seu nome: ')\n",
    "    \n",
    "idade = int(input('Digite sua idade: '))\n",
    "while(idade < 0 or idade > 150):\n",
    "    print('Idade não pode ser menor que 0, nem maior que 150.')\n",
    "    idade = int(input('Digite sua idade: '))\n",
    "    \n",
    "sexo = input('Digite seu sexo: ')\n",
    "while(sexo not in sexo_values):\n",
    "    print('Digite a letra (f) ou (m).')\n",
    "    sexo = input('Digite seu sexo: ')\n",
    "    \n",
    "estadoCivil = input('Digite seu estado civil: ')\n",
    "while(estadoCivil not in estado_civil_values):\n",
    "    print('Digite as respectivas letras para as seguintes situações: Solteiro(a) (s), Casado(a) (c), Viúvo(a) (v), Divorciado(a) (d)')\n",
    "    estadoCivil = input('Digite seu estado civil: ')\n",
    "    \n",
    "    \n",
    "print('********** Individuo Cadastrado **********')\n",
    "print('Nome: ',nome)\n",
    "print('Idade: ',idade)\n",
    "print('Sexo: ', sexo)\n",
    "print('Estado Civil: ',estadoCivil)\n",
    "\n",
    "\n"
   ]
  },
  {
   "cell_type": "code",
   "execution_count": 11,
   "id": "dad2c8c1",
   "metadata": {},
   "outputs": [
    {
     "name": "stdout",
     "output_type": "stream",
     "text": [
      "82400 x 203000\n",
      "1\n",
      "84872 x 206045\n",
      "2\n",
      "87418 x 209135\n",
      "3\n",
      "90040 x 212272\n",
      "4\n",
      "92741 x 215456\n",
      "5\n",
      "95523 x 218687\n",
      "6\n",
      "98388 x 221967\n",
      "7\n",
      "101339 x 225296\n",
      "8\n",
      "104379 x 228675\n",
      "9\n",
      "107510 x 232105\n",
      "10\n",
      "110735 x 235586\n",
      "11\n",
      "114057 x 239119\n",
      "12\n",
      "117478 x 242705\n",
      "13\n",
      "121002 x 246345\n",
      "14\n",
      "124632 x 250040\n",
      "15\n",
      "128370 x 253790\n",
      "16\n",
      "132221 x 257596\n",
      "17\n",
      "136187 x 261459\n",
      "18\n",
      "140272 x 265380\n",
      "19\n",
      "144480 x 269360\n",
      "20\n",
      "148814 x 273400\n",
      "21\n",
      "153278 x 277501\n",
      "22\n",
      "157876 x 281663\n",
      "23\n",
      "162612 x 285887\n",
      "24\n",
      "167490 x 290175\n",
      "25\n",
      "172514 x 294527\n",
      "26\n",
      "177689 x 298944\n",
      "27\n",
      "183019 x 303428\n",
      "28\n",
      "188509 x 307979\n",
      "29\n",
      "194164 x 312598\n",
      "30\n",
      "199988 x 317286\n",
      "31\n",
      "205987 x 322045\n",
      "32\n",
      "212166 x 326875\n",
      "33\n",
      "218530 x 331778\n",
      "34\n",
      "225085 x 336754\n",
      "35\n",
      "231837 x 341805\n",
      "36\n",
      "238792 x 346932\n",
      "37\n",
      "245955 x 352135\n",
      "38\n",
      "253333 x 357417\n",
      "39\n",
      "260932 x 362778\n",
      "40\n",
      "268759 x 368219\n",
      "41\n",
      "276821 x 373742\n",
      "42\n",
      "285125 x 379348\n",
      "43\n",
      "293678 x 385038\n",
      "44\n",
      "302488 x 390813\n",
      "45\n",
      "311562 x 396675\n",
      "46\n",
      "320908 x 402625\n",
      "47\n",
      "330535 x 408664\n",
      "48\n",
      "340451 x 414793\n",
      "49\n",
      "350664 x 421014\n",
      "50\n",
      "361183 x 427329\n",
      "51\n",
      "372018 x 433738\n",
      "52\n",
      "383178 x 440244\n",
      "53\n",
      "394673 x 446847\n",
      "54\n",
      "406513 x 453549\n",
      "55\n",
      "418708 x 460352\n",
      "56\n",
      "431269 x 467257\n",
      "57\n",
      "444207 x 474265\n",
      "58\n",
      "457533 x 481378\n",
      "59\n",
      "471258 x 488598\n",
      "60\n",
      "485395 x 495926\n",
      "61\n",
      "499956 x 503364\n",
      "62\n",
      "514954 x 510914\n",
      "63\n"
     ]
    }
   ],
   "source": [
    "#4 Supondo que a população de um país A seja da ordem de 80000 habitantes com uma taxa anual de crescimento de 3% \n",
    "#e que a população de B seja 200000 habitantes com uma taxa de crescimento de 1.5%. \n",
    "#Faça um programa que calcule e escreva o número de anos necessários para que\n",
    "#a população do país A ultrapasse ou iguale a população do país B, mantidas as taxas de crescimento.\n",
    "def calcular(hab, perc):\n",
    "    return int(hab * (perc/100))\n",
    "\n",
    "\n",
    "hab_pais_a = 80000\n",
    "perc_tx_cresci_a = 3\n",
    "\n",
    "hab_pais_b = 200000\n",
    "perc_tx_cresci_b = 1.5\n",
    "\n",
    "ano = 0\n",
    "\n",
    "while(hab_pais_a <= hab_pais_b):\n",
    "    hab_pais_a = hab_pais_a + calcular(hab_pais_a, perc_tx_cresci_a)\n",
    "    hab_pais_b = hab_pais_b + calcular(hab_pais_b, perc_tx_cresci_b)\n",
    "    ano += 1\n",
    "    print(hab_pais_a, 'x', hab_pais_b)\n",
    "    print(ano)\n",
    "\n"
   ]
  },
  {
   "cell_type": "code",
   "execution_count": 23,
   "id": "fb70b515",
   "metadata": {},
   "outputs": [
    {
     "name": "stdout",
     "output_type": "stream",
     "text": [
      "********** Ultrapassagem de crescimento populacional levando em consideração taxa de crescimento fixa **********\n",
      "\n",
      "OBS: Comece informando o pais com menor população.\n",
      "\n",
      "Informe o pais com menor população: 50000\n",
      "Digite a taxa de crescimento do pais com menor população: 5\n",
      "Informe o pais com maior população: 75000\n",
      "Digite a taxa de crescimento do pais com maior população3\n",
      "52500 x 77250\n",
      "1\n",
      "55125 x 79567\n",
      "2\n",
      "57881 x 81954\n",
      "3\n",
      "60775 x 84412\n",
      "4\n",
      "63813 x 86944\n",
      "5\n",
      "67003 x 89552\n",
      "6\n",
      "70353 x 92238\n",
      "7\n",
      "73870 x 95005\n",
      "8\n",
      "77563 x 97855\n",
      "9\n",
      "81441 x 100790\n",
      "10\n",
      "85513 x 103813\n",
      "11\n",
      "89788 x 106927\n",
      "12\n",
      "94277 x 110134\n",
      "13\n",
      "98990 x 113438\n",
      "14\n",
      "103939 x 116841\n",
      "15\n",
      "109135 x 120346\n",
      "16\n",
      "114591 x 123956\n",
      "17\n",
      "120320 x 127674\n",
      "18\n",
      "126336 x 131504\n",
      "19\n",
      "132652 x 135449\n",
      "20\n",
      "139284 x 139512\n",
      "21\n",
      "146248 x 143697\n",
      "22\n"
     ]
    }
   ],
   "source": [
    "#5ª Altere o programa anterior permitindo ao usuário informar as populações e as taxas de crescimento iniciais. \n",
    "#Valide a entrada e permita repetir a operação.\n",
    "def calcular(hab, perc):\n",
    "    return int(hab * (perc/100))\n",
    "\n",
    "print('********** Ultrapassagem de crescimento populacional levando em consideração taxa de crescimento fixa **********')\n",
    "print()\n",
    "print('OBS: Comece informando o pais com menor população.')\n",
    "print()\n",
    "\n",
    "hab_pais_a = int(input('Informe o pais com menor população: '))\n",
    "perc_tx_cresci_a = float(input('Digite a taxa de crescimento do pais com menor população: '))\n",
    "\n",
    "hab_pais_b = int(input('Informe o pais com maior população: '))\n",
    "perc_tx_cresci_b = float(input('Digite a taxa de crescimento do pais com maior população'))\n",
    "ano = 0\n",
    "while(hab_pais_a <= hab_pais_b):\n",
    "    hab_pais_a = hab_pais_a + calcular(hab_pais_a, perc_tx_cresci_a)\n",
    "    hab_pais_b = hab_pais_b + calcular(hab_pais_b, perc_tx_cresci_b)\n",
    "    ano += 1\n",
    "    print(hab_pais_a, 'x', hab_pais_b)\n",
    "    print(ano)"
   ]
  },
  {
   "cell_type": "code",
   "execution_count": 40,
   "id": "bd935a2c",
   "metadata": {},
   "outputs": [
    {
     "name": "stdout",
     "output_type": "stream",
     "text": [
      "1\n",
      "2\n",
      "3\n",
      "4\n",
      "5\n",
      "6\n",
      "7\n",
      "8\n",
      "9\n",
      "10\n",
      "11\n",
      "12\n",
      "13\n",
      "14\n",
      "15\n",
      "16\n",
      "17\n",
      "18\n",
      "19\n",
      "20\n"
     ]
    }
   ],
   "source": [
    "#6ª Faça um programa que imprima na tela os números de 1 a 20, um abaixo do outro. \n",
    "#Depois modifique o programa para que ele mostre os números um ao lado do outro.\n",
    "\n",
    "\n",
    "numero = 0\n",
    "while(numero < 20):\n",
    "    numero += 1\n",
    "    print(numero)\n",
    "    \n",
    "    \n"
   ]
  },
  {
   "cell_type": "code",
   "execution_count": 33,
   "id": "13d12141",
   "metadata": {},
   "outputs": [],
   "source": [
    "#7º Faça um programa que leia 5 números e informe o maior número.\n"
   ]
  },
  {
   "cell_type": "code",
   "execution_count": null,
   "id": "14959139",
   "metadata": {},
   "outputs": [],
   "source": [
    "#8ª Faça um programa que leia 5 números e informe a soma e a média dos números."
   ]
  },
  {
   "cell_type": "code",
   "execution_count": 43,
   "id": "4e2931db",
   "metadata": {},
   "outputs": [
    {
     "name": "stdout",
     "output_type": "stream",
     "text": [
      "2\n",
      "4\n",
      "6\n",
      "8\n",
      "10\n",
      "12\n",
      "14\n",
      "16\n",
      "18\n",
      "20\n",
      "22\n",
      "24\n",
      "26\n",
      "28\n",
      "30\n",
      "32\n",
      "34\n",
      "36\n",
      "38\n",
      "40\n",
      "42\n",
      "44\n",
      "46\n",
      "48\n"
     ]
    }
   ],
   "source": [
    "#9ª Faça um programa que imprima na tela apenas os números ímpares entre 1 e 50.\n",
    "for x in range(2 , 50, 2):\n",
    "    print(x)"
   ]
  },
  {
   "cell_type": "code",
   "execution_count": null,
   "id": "d5627c5e",
   "metadata": {},
   "outputs": [],
   "source": [
    "#10ª Faça um programa que receba dois números inteiros e gere os números \n",
    "#inteiros que estão no intervalo compreendido por eles."
   ]
  },
  {
   "cell_type": "code",
   "execution_count": null,
   "id": "b9ab0bf2",
   "metadata": {},
   "outputs": [],
   "source": [
    "# 11ª Altere o programa anterior para mostrar no final a soma dos números.\n"
   ]
  },
  {
   "cell_type": "code",
   "execution_count": null,
   "id": "c3df7f2f",
   "metadata": {},
   "outputs": [],
   "source": []
  },
  {
   "cell_type": "code",
   "execution_count": null,
   "id": "13ca1811",
   "metadata": {},
   "outputs": [],
   "source": []
  },
  {
   "cell_type": "code",
   "execution_count": null,
   "id": "ec904204",
   "metadata": {},
   "outputs": [],
   "source": []
  },
  {
   "cell_type": "code",
   "execution_count": null,
   "id": "4a6a72c4",
   "metadata": {},
   "outputs": [],
   "source": []
  },
  {
   "cell_type": "code",
   "execution_count": null,
   "id": "45c392a5",
   "metadata": {},
   "outputs": [],
   "source": []
  },
  {
   "cell_type": "code",
   "execution_count": null,
   "id": "950dacb6",
   "metadata": {},
   "outputs": [],
   "source": []
  },
  {
   "cell_type": "code",
   "execution_count": null,
   "id": "952bfc80",
   "metadata": {},
   "outputs": [],
   "source": []
  },
  {
   "cell_type": "code",
   "execution_count": null,
   "id": "6fbd8850",
   "metadata": {},
   "outputs": [],
   "source": []
  },
  {
   "cell_type": "code",
   "execution_count": null,
   "id": "199ed7d9",
   "metadata": {},
   "outputs": [],
   "source": []
  },
  {
   "cell_type": "code",
   "execution_count": null,
   "id": "3f51396f",
   "metadata": {},
   "outputs": [],
   "source": []
  },
  {
   "cell_type": "code",
   "execution_count": null,
   "id": "25ee60ed",
   "metadata": {},
   "outputs": [],
   "source": []
  },
  {
   "cell_type": "code",
   "execution_count": null,
   "id": "3e7bf4c8",
   "metadata": {},
   "outputs": [],
   "source": []
  },
  {
   "cell_type": "code",
   "execution_count": null,
   "id": "d587a527",
   "metadata": {},
   "outputs": [],
   "source": []
  },
  {
   "cell_type": "code",
   "execution_count": null,
   "id": "82fc89d5",
   "metadata": {},
   "outputs": [],
   "source": []
  },
  {
   "cell_type": "code",
   "execution_count": null,
   "id": "3080fc9f",
   "metadata": {},
   "outputs": [],
   "source": []
  },
  {
   "cell_type": "code",
   "execution_count": null,
   "id": "4a4cb0ef",
   "metadata": {},
   "outputs": [],
   "source": []
  },
  {
   "cell_type": "code",
   "execution_count": null,
   "id": "4be55721",
   "metadata": {},
   "outputs": [],
   "source": []
  },
  {
   "cell_type": "code",
   "execution_count": null,
   "id": "741c6440",
   "metadata": {},
   "outputs": [],
   "source": []
  },
  {
   "cell_type": "code",
   "execution_count": null,
   "id": "b050b35c",
   "metadata": {},
   "outputs": [],
   "source": []
  },
  {
   "cell_type": "code",
   "execution_count": null,
   "id": "99384b8e",
   "metadata": {},
   "outputs": [],
   "source": []
  },
  {
   "cell_type": "code",
   "execution_count": null,
   "id": "14fe166c",
   "metadata": {},
   "outputs": [],
   "source": []
  },
  {
   "cell_type": "code",
   "execution_count": null,
   "id": "baa31385",
   "metadata": {},
   "outputs": [],
   "source": []
  },
  {
   "cell_type": "code",
   "execution_count": null,
   "id": "bc5e0ac2",
   "metadata": {},
   "outputs": [],
   "source": []
  },
  {
   "cell_type": "code",
   "execution_count": null,
   "id": "5925600f",
   "metadata": {},
   "outputs": [],
   "source": []
  },
  {
   "cell_type": "code",
   "execution_count": null,
   "id": "ddfc2976",
   "metadata": {},
   "outputs": [],
   "source": []
  },
  {
   "cell_type": "code",
   "execution_count": null,
   "id": "3b96a76f",
   "metadata": {},
   "outputs": [],
   "source": []
  },
  {
   "cell_type": "code",
   "execution_count": null,
   "id": "77213d44",
   "metadata": {},
   "outputs": [],
   "source": []
  },
  {
   "cell_type": "code",
   "execution_count": null,
   "id": "9be114e1",
   "metadata": {},
   "outputs": [],
   "source": []
  },
  {
   "cell_type": "code",
   "execution_count": null,
   "id": "ff62f393",
   "metadata": {},
   "outputs": [],
   "source": []
  },
  {
   "cell_type": "code",
   "execution_count": null,
   "id": "18aded22",
   "metadata": {},
   "outputs": [],
   "source": []
  },
  {
   "cell_type": "code",
   "execution_count": null,
   "id": "a4d338df",
   "metadata": {},
   "outputs": [],
   "source": []
  },
  {
   "cell_type": "code",
   "execution_count": null,
   "id": "f5726ef2",
   "metadata": {},
   "outputs": [],
   "source": []
  },
  {
   "cell_type": "code",
   "execution_count": null,
   "id": "7a76839d",
   "metadata": {},
   "outputs": [],
   "source": []
  },
  {
   "cell_type": "code",
   "execution_count": null,
   "id": "7963a4d5",
   "metadata": {},
   "outputs": [],
   "source": []
  },
  {
   "cell_type": "code",
   "execution_count": null,
   "id": "432abdc2",
   "metadata": {},
   "outputs": [],
   "source": []
  }
 ],
 "metadata": {
  "kernelspec": {
   "display_name": "Python 3 (ipykernel)",
   "language": "python",
   "name": "python3"
  },
  "language_info": {
   "codemirror_mode": {
    "name": "ipython",
    "version": 3
   },
   "file_extension": ".py",
   "mimetype": "text/x-python",
   "name": "python",
   "nbconvert_exporter": "python",
   "pygments_lexer": "ipython3",
   "version": "3.9.13"
  }
 },
 "nbformat": 4,
 "nbformat_minor": 5
}
