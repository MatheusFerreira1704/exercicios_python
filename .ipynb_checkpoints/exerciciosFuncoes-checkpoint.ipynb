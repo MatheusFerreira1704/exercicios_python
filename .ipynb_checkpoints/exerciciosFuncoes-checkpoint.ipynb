{
 "cells": [
  {
   "cell_type": "markdown",
   "id": "66e8f11a",
   "metadata": {},
   "source": [
    "# Exercícios funcoes python brasil"
   ]
  },
  {
   "cell_type": "code",
   "execution_count": null,
   "id": "aaa035a5",
   "metadata": {},
   "outputs": [],
   "source": [
    "#1 - Faça um programa para imprimir:\n",
    "#    1\n",
    " #   2   2\n",
    "   # 3   3   3\n",
    "   #.....\n",
    "   # n   n   n   n   n   n  ... n\n",
    "#para um n informado pelo usuário. Use uma função que receba um valor n inteiro e imprima até a n-ésima linha.\n",
    "def imprimirN(n):\n",
    "    i = 0\n",
    "    while( i <= n):\n",
    "        print(i)\n",
    "        i += 1\n",
    "    \n"
   ]
  },
  {
   "cell_type": "code",
   "execution_count": null,
   "id": "b5406336",
   "metadata": {},
   "outputs": [],
   "source": [
    "imprimirN(50)"
   ]
  },
  {
   "cell_type": "code",
   "execution_count": null,
   "id": "42b95b61",
   "metadata": {},
   "outputs": [],
   "source": [
    "#2- Faça um programa para imprimir:\n",
    "    #1\n",
    "    #1   2\n",
    "    #1   2   3\n",
    "    #.....\n",
    "    #1   2   3   ...  n\n",
    "#para um n informado pelo usuário. Use uma função que receba um valor n inteiro imprima até a n-ésima linha.\n",
    "\n",
    "\n",
    "def imprimir(x):\n",
    "    list = [x]\n",
    "    for i in list:\n",
    "        list.append(i)\n",
    "        print(list)"
   ]
  },
  {
   "cell_type": "code",
   "execution_count": null,
   "id": "81d3b1f0",
   "metadata": {},
   "outputs": [],
   "source": [
    "imprimir(15)"
   ]
  },
  {
   "cell_type": "code",
   "execution_count": null,
   "id": "fa577c06",
   "metadata": {},
   "outputs": [],
   "source": [
    "#3 - Faça um programa, com uma função que necessite de três argumentos, e que forneça a soma desses três argumentos.\n",
    "\n",
    "def somar(x,y,z):\n",
    "    print('*** soma dos números ***')\n",
    "    print('Numero: ', str(x))\n",
    "    print('Numero: ', str(y))\n",
    "    print('Numero: ', str(z))\n",
    "    print('Total: ', x + y + z)"
   ]
  },
  {
   "cell_type": "code",
   "execution_count": null,
   "id": "6d9593fc",
   "metadata": {},
   "outputs": [],
   "source": [
    "somar(10,58,12)"
   ]
  },
  {
   "cell_type": "code",
   "execution_count": null,
   "id": "00298953",
   "metadata": {},
   "outputs": [],
   "source": [
    "#4 - Faça um programa, com uma função que necessite de um argumento. \n",
    "#A função retorna o valor de caractere ‘P’, se seu argumento for positivo, e ‘N’, \n",
    "#se seu argumento for zero ou negativo.\n",
    "def positivoNegativo(n):\n",
    "    if(n > 0):\n",
    "        print('P')\n",
    "    else:\n",
    "        print('N')\n"
   ]
  },
  {
   "cell_type": "code",
   "execution_count": null,
   "id": "2294e17b",
   "metadata": {},
   "outputs": [],
   "source": [
    "positivoNegativo(0)"
   ]
  },
  {
   "cell_type": "code",
   "execution_count": null,
   "id": "53c146ba",
   "metadata": {},
   "outputs": [],
   "source": [
    "#5- Faça um programa com uma função chamada somaImposto. \n",
    "#A função possui dois parâmetros formais: taxaImposto, \n",
    "# que é a quantia de imposto sobre vendas expressa em porcentagem e custo, \n",
    "#que é o custo de um item antes do imposto. \n",
    "# A função “altera” o valor de custo para incluir o imposto sobre vendas.\n",
    "\n",
    "def somaImposto():\n",
    "    \n",
    "    taxa_imposto = float(input('Informe a taxa do imposto: '))\n",
    "    custo = float(input('Informe o custo do produto: '))\n",
    "    \n",
    "    \n",
    "    \n",
    "    taxa_imposto_trans = taxa_imposto / 100\n",
    "    \n",
    "    vlr_final = custo + (custo * taxa_imposto_trans)\n",
    "    \n",
    "\n",
    "    \n",
    "    print('Taxa de imposto: %f' % taxa_imposto)\n",
    "    print('Custo: %f' % custo)\n",
    "    print('Valor Final: %f' % vlr_final )\n",
    "    \n",
    "    \n",
    "    "
   ]
  },
  {
   "cell_type": "code",
   "execution_count": null,
   "id": "24b752b8",
   "metadata": {},
   "outputs": [],
   "source": [
    "somaImposto()"
   ]
  },
  {
   "cell_type": "code",
   "execution_count": 63,
   "id": "4c4825db",
   "metadata": {},
   "outputs": [],
   "source": [
    "#6 - Faça um programa que converta da notação de 24 horas para a notação de 12 horas. \n",
    "#Por exemplo, o programa deve converter 14:25 em 2:25 P.M. \n",
    "#A entrada é dada em dois inteiros. \n",
    "#Deve haver pelo menos duas funções: uma para fazer a conversão e uma para a saída.\n",
    "#Registre a informação A.M./P.M. como um valor ‘A’ para A.M. e ‘P’ para P.M. Assim, \n",
    "#a função para efetuar as conversões terá um parâmetro formal para registrar se é A.M. \n",
    "#ou P.M. Inclua um loop que permita que o usuário repita esse cálculo para novos valores de entrada \n",
    "#todas as vezes que desejar.\n",
    "horas = {\n",
    "    13:1,\n",
    "    14:2,\n",
    "    15:3,\n",
    "    16:4,\n",
    "    17:5,\n",
    "    18:6,\n",
    "    19:7,\n",
    "    20:8,\n",
    "    21:9,\n",
    "    22:10,\n",
    "    23:11,\n",
    "    24:0}\n",
    "\n",
    "\n",
    "\n",
    "    \n",
    "    \n",
    "    "
   ]
  },
  {
   "cell_type": "code",
   "execution_count": 74,
   "id": "456afd5b",
   "metadata": {},
   "outputs": [],
   "source": [
    "class mudar_hora:\n",
    "    \n",
    "    def __init__(self, hora, minuto, turno):\n",
    "        self.hora\n",
    "        self.minuto\n",
    "        self.turno\n",
    "    \n",
    "    def alteraHora(self, hora):\n",
    "        alterado = horas[self.hora]\n",
    "        \n",
    "\n",
    "    def imprimir(self, turno):\n",
    "        if turno == 'AM':\n",
    "            print(str(alterado) + str(minuto) + 'AM' )\n",
    "        else:\n",
    "            print(str(alterado) + str(minuto) + 'PM' )"
   ]
  },
  {
   "cell_type": "code",
   "execution_count": 75,
   "id": "23fc17c6",
   "metadata": {},
   "outputs": [
    {
     "ename": "TypeError",
     "evalue": "alteraHora() missing 1 required positional argument: 'hora'",
     "output_type": "error",
     "traceback": [
      "\u001b[0;31m---------------------------------------------------------------------------\u001b[0m",
      "\u001b[0;31mTypeError\u001b[0m                                 Traceback (most recent call last)",
      "Input \u001b[0;32mIn [75]\u001b[0m, in \u001b[0;36m<cell line: 1>\u001b[0;34m()\u001b[0m\n\u001b[0;32m----> 1\u001b[0m \u001b[43mmudar_hora\u001b[49m\u001b[38;5;241;43m.\u001b[39;49m\u001b[43malteraHora\u001b[49m\u001b[43m(\u001b[49m\u001b[38;5;241;43m15\u001b[39;49m\u001b[43m)\u001b[49m\n",
      "\u001b[0;31mTypeError\u001b[0m: alteraHora() missing 1 required positional argument: 'hora'"
     ]
    }
   ],
   "source": [
    "mudar_hora.alteraHora(15)"
   ]
  },
  {
   "cell_type": "code",
   "execution_count": null,
   "id": "88bc5325",
   "metadata": {},
   "outputs": [],
   "source": [
    "#7 - Faça um programa que use a função valorPagamento para determinar o valor a ser pago por uma prestação \n",
    "#de uma conta. O programa deverá solicitar ao usuário o valor da prestação e o número de dias em atraso \n",
    "#e passar estes valores para a função valorPagamento, que calculará o valor a ser pago e devolverá este \n",
    "#valor ao programa que a chamou. O programa deverá então exibir o valor a ser pago na tela. \n",
    "#Após a execução o programa deverá voltar a pedir outro valor de prestação e assim continuar até que seja informado\n",
    "#um valor igual a zero para a prestação. \n",
    "#Neste momento o programa deverá ser encerrado, exibindo o relatório do dia, \n",
    "#que conterá a quantidade e o valor total de prestações pagas no dia. \n",
    "#O cálculo do valor a ser pago é feito da seguinte forma. Para pagamentos sem atraso, \n",
    "#cobrar o valor da prestação. Quando houver atraso, cobrar 3% de multa, mais 0,1% de juros por dia de atraso."
   ]
  },
  {
   "cell_type": "code",
   "execution_count": null,
   "id": "3810ef27",
   "metadata": {},
   "outputs": [],
   "source": [
    "#8- Faça uma função que informe a quantidade de dígitos de um determinado número inteiro informado."
   ]
  },
  {
   "cell_type": "code",
   "execution_count": null,
   "id": "67596d71",
   "metadata": {},
   "outputs": [],
   "source": [
    "#9- Reverso do número. Faça uma função que retorne o reverso de um número inteiro informado. \n",
    "#Por exemplo: 127 -> 721."
   ]
  },
  {
   "cell_type": "code",
   "execution_count": null,
   "id": "67cfc48f",
   "metadata": {},
   "outputs": [],
   "source": [
    "#10 - Jogo de Craps. Faça um programa de implemente um jogo de Craps. \n",
    "#O jogador lança um par de dados, obtendo um valor entre 2 e 12. \n",
    "#Se, na primeira jogada, você tirar 7 ou 11, você um \"natural\" e ganhou. \n",
    "#Se você tirar 2, 3 ou 12 na primeira jogada, isto é chamado de \"craps\" e você perdeu. \n",
    "#Se, na primeira jogada, você fez um 4, 5, 6, 8, 9 ou 10,este é seu \"Ponto\". \n",
    "#Seu objetivo agora é continuar jogando os dados até tirar este número novamente. \n",
    "#Você perde, no entanto, se tirar um 7 antes de tirar este Ponto novamente."
   ]
  },
  {
   "cell_type": "code",
   "execution_count": null,
   "id": "420f7fc1",
   "metadata": {},
   "outputs": [],
   "source": [
    "#11 - Data com mês por extenso. Construa uma função que receba uma data no formato DD/MM/AAAA \n",
    "#e devolva uma string no formato D de mesPorExtenso de AAAA. \n",
    "#Opcionalmente, valide a data e retorne NULL caso a data seja inválida."
   ]
  },
  {
   "cell_type": "code",
   "execution_count": null,
   "id": "9188a830",
   "metadata": {},
   "outputs": [],
   "source": [
    "#12- Embaralha palavra. \n",
    "#Construa uma função que receba uma string como parâmetro e devolva outra string com os carateres embaralhados. \n",
    "#Por exemplo: se função receber a palavra python, pode retornar npthyo, ophtyn ou qualquer outra combinação possível\n",
    "#de forma aleatória. Padronize em sua função que todos os caracteres serão devolvidos em caixa alta ou caixa baixa, \n",
    "#independentemente de como foram digitados."
   ]
  },
  {
   "cell_type": "code",
   "execution_count": null,
   "id": "5f834c0f",
   "metadata": {},
   "outputs": [],
   "source": [
    "#13 - Desenha moldura. Construa uma função que desenhe um retângulo usando os caracteres ‘+’ , ‘−’ e ‘| ‘. \n",
    "#Esta função deve receber dois parâmetros, linhas e colunas, \n",
    "#sendo que o valor por omissão é o valor mínimo igual a 1 e o valor máximo é 20. \n",
    "#Se valores fora da faixa forem informados, eles devem ser modificados para valores dentro da faixa de forma elegante."
   ]
  },
  {
   "cell_type": "code",
   "execution_count": null,
   "id": "82e2b70f",
   "metadata": {},
   "outputs": [],
   "source": [
    "#14 - Quadrado mágico. Um quadrado mágico é aquele dividido em linhas e colunas, \n",
    "#com um número em cada posição e no qual a soma das linhas, colunas e diagonais é a mesma. \n",
    "#Por exemplo, veja um quadrado mágico de lado 3, com números de 1 a 9:\n",
    "#8  3  4 \n",
    "#1  5  9\n",
    "#6  7  2\n",
    "#Elabore uma função que identifica e mostra na tela todos os quadrados mágicos com as características acima. \n",
    "#Dica: produza todas as combinações possíveis e verifique a soma quando completar cada quadrado. \n",
    "#Usar um vetor de 1 a 9 parece ser mais simples que usar uma matriz 3x3."
   ]
  }
 ],
 "metadata": {
  "kernelspec": {
   "display_name": "Python 3 (ipykernel)",
   "language": "python",
   "name": "python3"
  },
  "language_info": {
   "codemirror_mode": {
    "name": "ipython",
    "version": 3
   },
   "file_extension": ".py",
   "mimetype": "text/x-python",
   "name": "python",
   "nbconvert_exporter": "python",
   "pygments_lexer": "ipython3",
   "version": "3.9.13"
  }
 },
 "nbformat": 4,
 "nbformat_minor": 5
}
